{
 "cells": [
  {
   "cell_type": "markdown",
   "id": "460b9bde-bf6b-49e0-9005-384afa509ab3",
   "metadata": {},
   "source": [
    "# Aula 02 - Python"
   ]
  },
  {
   "cell_type": "markdown",
   "id": "0e1657ad-eaf2-4f79-aef9-557f1cca35df",
   "metadata": {},
   "source": [
    "## Dados numéricos"
   ]
  },
  {
   "cell_type": "code",
   "execution_count": 6,
   "id": "218c5901-1e55-49b0-b8c5-a0b8be056a14",
   "metadata": {},
   "outputs": [
    {
     "name": "stdout",
     "output_type": "stream",
     "text": [
      "Valor de a = 1\n"
     ]
    },
    {
     "data": {
      "text/plain": [
       "int"
      ]
     },
     "execution_count": 6,
     "metadata": {},
     "output_type": "execute_result"
    }
   ],
   "source": [
    "# Variável inteira\n",
    "a = 1\n",
    "print('Valor de a = '+str(a))\n",
    "type(a)"
   ]
  },
  {
   "cell_type": "code",
   "execution_count": 7,
   "id": "757366bc-4a1d-40f4-bc3b-ddecbb216a3a",
   "metadata": {},
   "outputs": [
    {
     "name": "stdout",
     "output_type": "stream",
     "text": [
      "1.0\n"
     ]
    },
    {
     "data": {
      "text/plain": [
       "float"
      ]
     },
     "execution_count": 7,
     "metadata": {},
     "output_type": "execute_result"
    }
   ],
   "source": [
    "# Variável dupla precisão\n",
    "b = 1.0\n",
    "print(b)\n",
    "type(b)"
   ]
  },
  {
   "cell_type": "code",
   "execution_count": 8,
   "id": "a45d4870-52bf-44e3-aa9d-1735eca2b3f2",
   "metadata": {},
   "outputs": [
    {
     "name": "stdout",
     "output_type": "stream",
     "text": [
      "1\n"
     ]
    },
    {
     "data": {
      "text/plain": [
       "int"
      ]
     },
     "execution_count": 8,
     "metadata": {},
     "output_type": "execute_result"
    }
   ],
   "source": [
    "# Converter float para int\n",
    "c = int(b)\n",
    "print(c)\n",
    "type(c)"
   ]
  },
  {
   "cell_type": "code",
   "execution_count": 9,
   "id": "d56cf27a-3666-4462-af8b-92fe2877a822",
   "metadata": {},
   "outputs": [
    {
     "name": "stdout",
     "output_type": "stream",
     "text": [
      "nan\n"
     ]
    },
    {
     "data": {
      "text/plain": [
       "float"
      ]
     },
     "execution_count": 9,
     "metadata": {},
     "output_type": "execute_result"
    }
   ],
   "source": [
    "# Delacrando nan\n",
    "import numpy as np\n",
    "d = np.nan\n",
    "print(d)\n",
    "type(d)"
   ]
  },
  {
   "cell_type": "code",
   "execution_count": 10,
   "id": "765140c4-3aaf-4d5c-8029-2ad0016b3d4b",
   "metadata": {},
   "outputs": [
    {
     "name": "stdout",
     "output_type": "stream",
     "text": [
      "nan\n",
      "nan\n",
      "1.0\n"
     ]
    }
   ],
   "source": [
    "# Operação com NaN\n",
    "e = d*1\n",
    "print(e)\n",
    "e = d+1\n",
    "print(e)\n",
    "e = np.nansum([d,1])\n",
    "print(e)"
   ]
  },
  {
   "cell_type": "markdown",
   "id": "2c4592d0-68d1-4b8d-ba5a-150d545e615b",
   "metadata": {},
   "source": [
    "# Dados de texto"
   ]
  },
  {
   "cell_type": "code",
   "execution_count": 11,
   "id": "9a9e2e39-ada9-4b3c-9135-bdbe86dc3b1d",
   "metadata": {},
   "outputs": [
    {
     "name": "stdout",
     "output_type": "stream",
     "text": [
      "Fábio\n",
      "Gabriel\n",
      "FábioGabriel\n",
      "Fábio Gabriel\n"
     ]
    }
   ],
   "source": [
    "# Declaração de variável texto\n",
    "f = 'Fábio'\n",
    "g = \"Gabriel\"\n",
    "print(f)\n",
    "print(g)\n",
    "print(f+g)\n",
    "print(f+' '+g)"
   ]
  },
  {
   "cell_type": "markdown",
   "id": "72bb974f-3308-415a-81dd-b80481bc813a",
   "metadata": {},
   "source": [
    "# Dados tipo bool - lógica"
   ]
  },
  {
   "cell_type": "code",
   "execution_count": 12,
   "id": "51a4fb3b-07d9-49fd-8f57-adef46f8df2c",
   "metadata": {},
   "outputs": [
    {
     "data": {
      "text/plain": [
       "True"
      ]
     },
     "execution_count": 12,
     "metadata": {},
     "output_type": "execute_result"
    }
   ],
   "source": [
    "a == 1"
   ]
  },
  {
   "cell_type": "code",
   "execution_count": 13,
   "id": "94426f0a-bd00-43a5-a217-b2b4a11ddc5d",
   "metadata": {},
   "outputs": [
    {
     "name": "stdout",
     "output_type": "stream",
     "text": [
      "True\n"
     ]
    },
    {
     "data": {
      "text/plain": [
       "bool"
      ]
     },
     "execution_count": 13,
     "metadata": {},
     "output_type": "execute_result"
    }
   ],
   "source": [
    "h = (a==1)\n",
    "print(h)\n",
    "type(h)"
   ]
  },
  {
   "cell_type": "code",
   "execution_count": 14,
   "id": "22b6e3b5-e748-402c-adc7-e39b93b9b92f",
   "metadata": {},
   "outputs": [
    {
     "name": "stdout",
     "output_type": "stream",
     "text": [
      "False\n"
     ]
    },
    {
     "data": {
      "text/plain": [
       "bool"
      ]
     },
     "execution_count": 14,
     "metadata": {},
     "output_type": "execute_result"
    }
   ],
   "source": [
    "h = (a==2)\n",
    "print(h)\n",
    "type(h)"
   ]
  },
  {
   "cell_type": "code",
   "execution_count": 15,
   "id": "4d2a8baf-753d-4463-b7d7-e1115271606d",
   "metadata": {},
   "outputs": [
    {
     "data": {
      "text/plain": [
       "bool"
      ]
     },
     "execution_count": 15,
     "metadata": {},
     "output_type": "execute_result"
    }
   ],
   "source": [
    "i = True\n",
    "type(i)"
   ]
  },
  {
   "cell_type": "code",
   "execution_count": 16,
   "id": "95e12816-8b5a-4975-a45a-cf5710835391",
   "metadata": {},
   "outputs": [
    {
     "data": {
      "text/plain": [
       "str"
      ]
     },
     "execution_count": 16,
     "metadata": {},
     "output_type": "execute_result"
    }
   ],
   "source": [
    "ii = 'True'\n",
    "type(ii)"
   ]
  },
  {
   "cell_type": "markdown",
   "id": "272f20cb-dc4e-49e4-b7be-f9092407ba58",
   "metadata": {},
   "source": [
    "## Operação de comparação"
   ]
  },
  {
   "cell_type": "code",
   "execution_count": 17,
   "id": "0d464994-d5d8-445d-b175-962ea4a577f0",
   "metadata": {},
   "outputs": [
    {
     "data": {
      "text/plain": [
       "True"
      ]
     },
     "execution_count": 17,
     "metadata": {},
     "output_type": "execute_result"
    }
   ],
   "source": [
    "# Operação ==\n",
    "a==b"
   ]
  },
  {
   "cell_type": "code",
   "execution_count": 18,
   "id": "2689cae6-af83-4596-ab19-1a95ab467495",
   "metadata": {},
   "outputs": [
    {
     "data": {
      "text/plain": [
       "False"
      ]
     },
     "execution_count": 18,
     "metadata": {},
     "output_type": "execute_result"
    }
   ],
   "source": [
    "\n",
    "# Operação ><\n",
    "a>b"
   ]
  },
  {
   "cell_type": "code",
   "execution_count": 19,
   "id": "ed78892e-33ba-4ab1-902a-179cc77bbacc",
   "metadata": {},
   "outputs": [
    {
     "data": {
      "text/plain": [
       "False"
      ]
     },
     "execution_count": 19,
     "metadata": {},
     "output_type": "execute_result"
    }
   ],
   "source": [
    "# Operação !=\n",
    "a!=b"
   ]
  },
  {
   "cell_type": "code",
   "execution_count": 20,
   "id": "ee96c98a-45b3-4d46-9de4-b6038db49e1d",
   "metadata": {},
   "outputs": [
    {
     "data": {
      "text/plain": [
       "True"
      ]
     },
     "execution_count": 20,
     "metadata": {},
     "output_type": "execute_result"
    }
   ],
   "source": [
    "# Operação >= ou <=\n",
    "a>=b"
   ]
  },
  {
   "cell_type": "markdown",
   "id": "c179f463-e914-411b-935e-4f929dbceacf",
   "metadata": {},
   "source": [
    "## Operações matemáticas"
   ]
  },
  {
   "cell_type": "code",
   "execution_count": 21,
   "id": "b50e2498-222a-435e-9a83-cf81906981bf",
   "metadata": {},
   "outputs": [
    {
     "data": {
      "text/plain": [
       "2.0"
      ]
     },
     "execution_count": 21,
     "metadata": {},
     "output_type": "execute_result"
    }
   ],
   "source": [
    "# Soma \n",
    "a+b"
   ]
  },
  {
   "cell_type": "code",
   "execution_count": 22,
   "id": "3a66532c-c8cc-4878-9279-49d9f2571510",
   "metadata": {},
   "outputs": [
    {
     "name": "stdout",
     "output_type": "stream",
     "text": [
      "2.0\n"
     ]
    }
   ],
   "source": [
    "# Soma e atribui valor\n",
    "ab = a+b\n",
    "print(ab)"
   ]
  },
  {
   "cell_type": "code",
   "execution_count": 23,
   "id": "308e5d2f-fbdd-433f-ab00-bfe1acc0e178",
   "metadata": {},
   "outputs": [
    {
     "name": "stdout",
     "output_type": "stream",
     "text": [
      "Não use l como nome de variável\n",
      "1.0\n"
     ]
    }
   ],
   "source": [
    "# Multiplicação\n",
    "l = a*b # Não use l como variável\n",
    "print(\"Não use l como nome de variável\")\n",
    "j = a*b\n",
    "print(j)"
   ]
  },
  {
   "cell_type": "code",
   "execution_count": 24,
   "id": "c4f1db1c-d1c8-4515-a7e2-b1d569f0b4c9",
   "metadata": {},
   "outputs": [
    {
     "data": {
      "text/plain": [
       "1.0"
      ]
     },
     "execution_count": 24,
     "metadata": {},
     "output_type": "execute_result"
    }
   ],
   "source": [
    "# Divisão\n",
    "a/b"
   ]
  },
  {
   "cell_type": "code",
   "execution_count": 25,
   "id": "6e85d048-ee38-40b5-9171-f4166f95b9c6",
   "metadata": {},
   "outputs": [
    {
     "data": {
      "text/plain": [
       "25"
      ]
     },
     "execution_count": 25,
     "metadata": {},
     "output_type": "execute_result"
    }
   ],
   "source": [
    "# Potencia\n",
    "5**2"
   ]
  },
  {
   "cell_type": "code",
   "execution_count": 26,
   "id": "8c300563-8422-4886-899d-6bdca759437f",
   "metadata": {},
   "outputs": [
    {
     "data": {
      "text/plain": [
       "22026.465794806718"
      ]
     },
     "execution_count": 26,
     "metadata": {},
     "output_type": "execute_result"
    }
   ],
   "source": [
    "# Operações matemáticas com a bibliotéca math\n",
    "import math\n",
    "\n",
    "math.exp(10)"
   ]
  },
  {
   "cell_type": "code",
   "execution_count": 27,
   "id": "f2025d13-f72f-4d4e-9858-4ef727bdb48c",
   "metadata": {},
   "outputs": [
    {
     "data": {
      "text/plain": [
       "1.0"
      ]
     },
     "execution_count": 27,
     "metadata": {},
     "output_type": "execute_result"
    }
   ],
   "source": [
    "math.exp(0)"
   ]
  },
  {
   "cell_type": "code",
   "execution_count": 28,
   "id": "f9736095-3d3a-40da-a805-ed5bfccb66a0",
   "metadata": {},
   "outputs": [
    {
     "data": {
      "text/plain": [
       "2.718281828459045"
      ]
     },
     "execution_count": 28,
     "metadata": {},
     "output_type": "execute_result"
    }
   ],
   "source": [
    "math.exp(a)"
   ]
  },
  {
   "cell_type": "code",
   "execution_count": 29,
   "id": "83c04384-3bf6-4812-a0cb-5889355156db",
   "metadata": {},
   "outputs": [
    {
     "data": {
      "text/plain": [
       "4.5399929762484854e-05"
      ]
     },
     "execution_count": 29,
     "metadata": {},
     "output_type": "execute_result"
    }
   ],
   "source": [
    "math.exp(-10)"
   ]
  },
  {
   "cell_type": "code",
   "execution_count": 30,
   "id": "8d3c0719-1860-4cec-9515-ca20c030a907",
   "metadata": {},
   "outputs": [
    {
     "data": {
      "text/plain": [
       "0.0"
      ]
     },
     "execution_count": 30,
     "metadata": {},
     "output_type": "execute_result"
    }
   ],
   "source": [
    "import math as mt\n",
    "mt.log(c)"
   ]
  },
  {
   "cell_type": "code",
   "execution_count": 31,
   "id": "2936b3df-f276-40b4-a191-41fb7da46386",
   "metadata": {},
   "outputs": [
    {
     "data": {
      "text/plain": [
       "2.0"
      ]
     },
     "execution_count": 31,
     "metadata": {},
     "output_type": "execute_result"
    }
   ],
   "source": [
    "\n",
    "mt.log10(100)"
   ]
  },
  {
   "cell_type": "markdown",
   "id": "28831574-53c9-4757-8c3f-a7accd9accda",
   "metadata": {},
   "source": [
    "## Listas"
   ]
  },
  {
   "cell_type": "code",
   "execution_count": 32,
   "id": "4b919843-27d6-430d-9f20-43bd2b11db3d",
   "metadata": {},
   "outputs": [
    {
     "name": "stdout",
     "output_type": "stream",
     "text": [
      "[1, 2, 3]\n"
     ]
    }
   ],
   "source": [
    "myFirstList = [1,2,3]\n",
    "print(myFirstList)"
   ]
  },
  {
   "cell_type": "code",
   "execution_count": 33,
   "id": "30eba90d-e74b-453f-9851-76ce968e1543",
   "metadata": {},
   "outputs": [
    {
     "name": "stdout",
     "output_type": "stream",
     "text": [
      "1\n",
      "3\n"
     ]
    }
   ],
   "source": [
    "\n",
    "# Acessando valores da lista pelo index\n",
    "print(myFirstList[0])\n",
    "print(myFirstList[2])"
   ]
  },
  {
   "cell_type": "code",
   "execution_count": 34,
   "id": "ae35d25d-b92c-4e03-a106-4e59bfd0bc9a",
   "metadata": {},
   "outputs": [
    {
     "data": {
      "text/plain": [
       "False"
      ]
     },
     "execution_count": 34,
     "metadata": {},
     "output_type": "execute_result"
    }
   ],
   "source": [
    "myFirstList==a"
   ]
  },
  {
   "cell_type": "code",
   "execution_count": 36,
   "id": "19ff4991-6ef8-46bf-94f0-5207ec82215a",
   "metadata": {},
   "outputs": [
    {
     "data": {
      "text/plain": [
       "True"
      ]
     },
     "execution_count": 36,
     "metadata": {},
     "output_type": "execute_result"
    }
   ],
   "source": [
    "myFirstList[0]==a"
   ]
  },
  {
   "cell_type": "code",
   "execution_count": 37,
   "id": "224a1581-0c5a-41e9-88d0-872c99aebbc2",
   "metadata": {},
   "outputs": [
    {
     "name": "stdout",
     "output_type": "stream",
     "text": [
      "[1, 1, 'c']\n"
     ]
    }
   ],
   "source": [
    "mySecList = [1,a,'c']\n",
    "print(mySecList)"
   ]
  },
  {
   "cell_type": "code",
   "execution_count": 38,
   "id": "326d0fe0-9a74-4109-9558-b9da6935241b",
   "metadata": {},
   "outputs": [
    {
     "data": {
      "text/plain": [
       "list"
      ]
     },
     "execution_count": 38,
     "metadata": {},
     "output_type": "execute_result"
    }
   ],
   "source": [
    "type(mySecList)"
   ]
  },
  {
   "cell_type": "code",
   "execution_count": 39,
   "id": "b16e0c0d-c62b-42db-ae3d-8ffe0a138b58",
   "metadata": {},
   "outputs": [
    {
     "data": {
      "text/plain": [
       "str"
      ]
     },
     "execution_count": 39,
     "metadata": {},
     "output_type": "execute_result"
    }
   ],
   "source": [
    "type(mySecList[2])"
   ]
  },
  {
   "cell_type": "code",
   "execution_count": 40,
   "id": "f508c912-f7db-4d98-a6b6-6d10e8095d34",
   "metadata": {},
   "outputs": [
    {
     "data": {
      "text/plain": [
       "int"
      ]
     },
     "execution_count": 40,
     "metadata": {},
     "output_type": "execute_result"
    }
   ],
   "source": [
    "type(mySecList[1])"
   ]
  },
  {
   "cell_type": "markdown",
   "id": "0a53f267-69ab-43fd-a824-024f30a9a608",
   "metadata": {},
   "source": [
    "## Caminhos = path"
   ]
  },
  {
   "cell_type": "code",
   "execution_count": 41,
   "id": "9d071ead-2b37-4746-a78d-6d7313ae1051",
   "metadata": {},
   "outputs": [
    {
     "name": "stdout",
     "output_type": "stream",
     "text": [
      "C:\\Users\\mathe\\Documents\\GitHub\\-ENS410064\n"
     ]
    }
   ],
   "source": [
    "path = r\"C:\\Users\\mathe\\Documents\\GitHub\\-ENS410064\"\n",
    "print(path)"
   ]
  },
  {
   "cell_type": "code",
   "execution_count": 45,
   "id": "0effdbd9-3702-4404-9841-5556067cadef",
   "metadata": {},
   "outputs": [
    {
     "name": "stdout",
     "output_type": "stream",
     "text": [
      "C:/Users/mathe/Documents/GitHub/-ENS410064\n"
     ]
    }
   ],
   "source": [
    "path = \"C:/Users/mathe/Documents/GitHub/-ENS410064\"\n",
    "print(path)"
   ]
  },
  {
   "cell_type": "code",
   "execution_count": 46,
   "id": "2c6e5968-8f07-4b9f-9874-24b9855ba886",
   "metadata": {},
   "outputs": [
    {
     "data": {
      "text/plain": [
       "['.git', '.gitignore.txt', 'cd', 'pyEnv', 'README.md', 'scripts', 'venv']"
      ]
     },
     "execution_count": 46,
     "metadata": {},
     "output_type": "execute_result"
    }
   ],
   "source": [
    "import os\n",
    "# Listar arquivos na pasta\n",
    "os.listdir(path)"
   ]
  },
  {
   "cell_type": "code",
   "execution_count": 47,
   "id": "8992650d-0658-4808-baf0-1d0fc9512547",
   "metadata": {},
   "outputs": [
    {
     "data": {
      "text/plain": [
       "'.git'"
      ]
     },
     "execution_count": 47,
     "metadata": {},
     "output_type": "execute_result"
    }
   ],
   "source": [
    "# Selecionar primeiro arquivo listado\n",
    "os.listdir(path)[0]"
   ]
  },
  {
   "cell_type": "code",
   "execution_count": 48,
   "id": "9cc4261e-4652-427d-8a98-1644d54c6254",
   "metadata": {},
   "outputs": [
    {
     "data": {
      "text/plain": [
       "'C:/Users/mathe/Documents/GitHub/-ENS410064/.git'"
      ]
     },
     "execution_count": 48,
     "metadata": {},
     "output_type": "execute_result"
    }
   ],
   "source": [
    "# Concatenando caminhos\n",
    "path+\"/\"+os.listdir(path)[0]"
   ]
  },
  {
   "cell_type": "code",
   "execution_count": 49,
   "id": "9b910f8a-c8f3-4e42-a495-af70c4707157",
   "metadata": {},
   "outputs": [
    {
     "data": {
      "text/plain": [
       "['COMMIT_EDITMSG',\n",
       " 'config',\n",
       " 'description',\n",
       " 'FETCH_HEAD',\n",
       " 'HEAD',\n",
       " 'hooks',\n",
       " 'index',\n",
       " 'info',\n",
       " 'logs',\n",
       " 'objects',\n",
       " 'packed-refs',\n",
       " 'refs']"
      ]
     },
     "execution_count": 49,
     "metadata": {},
     "output_type": "execute_result"
    }
   ],
   "source": [
    "# Listando caminho concatenado\n",
    "os.listdir(path+\"/\"+os.listdir(path)[0])"
   ]
  },
  {
   "cell_type": "code",
   "execution_count": 50,
   "id": "829c8e87-0f70-415b-b6e8-3c512238edbd",
   "metadata": {},
   "outputs": [
    {
     "data": {
      "text/plain": [
       "'C:\\\\Users\\\\mathe\\\\Documents\\\\GitHub\\\\-ENS410064\\\\venv\\\\Scripts'"
      ]
     },
     "execution_count": 50,
     "metadata": {},
     "output_type": "execute_result"
    }
   ],
   "source": [
    "# Diretório que estou trababalhando\n",
    "os.getcwd()"
   ]
  },
  {
   "cell_type": "code",
   "execution_count": 51,
   "id": "5a15d5df-19a8-4382-b5ba-0e0aa0c26f7f",
   "metadata": {},
   "outputs": [],
   "source": [
    "\n",
    "# Mudo de diretório para o caminho \n",
    "os.chdir('C:\\\\Users\\\\mathe\\\\Documents\\\\')"
   ]
  },
  {
   "cell_type": "code",
   "execution_count": 52,
   "id": "b74df376-c36b-4bc9-b4e1-0156034741e4",
   "metadata": {},
   "outputs": [
    {
     "data": {
      "text/plain": [
       "'C:\\\\Users\\\\mathe\\\\Documents'"
      ]
     },
     "execution_count": 52,
     "metadata": {},
     "output_type": "execute_result"
    }
   ],
   "source": [
    "os.getcwd()"
   ]
  },
  {
   "cell_type": "code",
   "execution_count": 53,
   "id": "b80efe9a-f871-407d-ac7d-1163d39a8eee",
   "metadata": {},
   "outputs": [
    {
     "name": "stdout",
     "output_type": "stream",
     "text": [
      "Criando diretório C:\\Users\\mathe\\Documents/test\n"
     ]
    }
   ],
   "source": [
    "# Criando diretório\n",
    "new_path = os.getcwd()+'/test'\n",
    "\n",
    "if os.path.isdir(new_path):\n",
    "    print('diretório já existe')\n",
    "else:\n",
    "    print('Criando diretório '+new_path)\n",
    "    os.mkdir(new_path)"
   ]
  },
  {
   "cell_type": "code",
   "execution_count": 54,
   "id": "f9af67ac-a684-40da-98d7-6824311af93a",
   "metadata": {},
   "outputs": [
    {
     "name": "stdout",
     "output_type": "stream",
     "text": [
      "Criando diretório C:\\Users\\mathe\\Documents/test2\n"
     ]
    }
   ],
   "source": [
    "# Criando diretório\n",
    "new_path = os.getcwd()+'/test2'\n",
    "\n",
    "if os.path.isdir(new_path):\n",
    "    print('diretório já existe')\n",
    "    # Criando um arquivo de texto\n",
    "    with open(new_path+\"/copy.txt\", \"w\") as file:\n",
    "        file.write(\"Your text goes here\")\n",
    "else:\n",
    "    print('Criando diretório '+new_path)\n",
    "    os.mkdir(new_path)\n",
    "    with open(new_path+\"/copy.txt\", \"w\") as file:\n",
    "        file.write(\"Your text goes here\")"
   ]
  },
  {
   "cell_type": "markdown",
   "id": "a0e70402-2711-477c-b66b-6e3f2d85e6c6",
   "metadata": {},
   "source": [
    "## Numpy arrays e Pandas DataFrames"
   ]
  },
  {
   "cell_type": "code",
   "execution_count": 55,
   "id": "156054f6-b112-4409-b64e-d138cbc728cf",
   "metadata": {},
   "outputs": [
    {
     "data": {
      "text/plain": [
       "numpy.ndarray"
      ]
     },
     "execution_count": 55,
     "metadata": {},
     "output_type": "execute_result"
    }
   ],
   "source": [
    "import numpy as np\n",
    "# Criando uma variável numpy\n",
    "n = np.array(0)\n",
    "type(n)"
   ]
  },
  {
   "cell_type": "code",
   "execution_count": 56,
   "id": "d1872c36-00c4-4255-8a98-cba3533801c5",
   "metadata": {},
   "outputs": [
    {
     "name": "stdout",
     "output_type": "stream",
     "text": [
      "[ 1  2  3 10 20 55]\n"
     ]
    }
   ],
   "source": [
    "# Criando uma variável numpy a partir de uma lista\n",
    "myThirdList=[1,2,3,10,20,55]\n",
    "n = np.array(myThirdList)\n",
    "print(n)"
   ]
  },
  {
   "cell_type": "code",
   "execution_count": 57,
   "id": "ec3d2f2f-c872-460e-a580-d8b3b6c43484",
   "metadata": {},
   "outputs": [
    {
     "name": "stdout",
     "output_type": "stream",
     "text": [
      "[[0.49959723 0.49105691 0.64281952 0.56361059 0.09305077 0.18051912\n",
      "  0.76888437 0.30918879 0.65813059 0.42859874]\n",
      " [0.10873557 0.71094073 0.42961771 0.24715902 0.67587972 0.17343985\n",
      "  0.15517629 0.78020266 0.53808761 0.28877885]\n",
      " [0.5218439  0.38173239 0.33769203 0.72277691 0.64090933 0.41718228\n",
      "  0.81463715 0.84957277 0.64469733 0.47933414]\n",
      " [0.79586655 0.36151075 0.12613152 0.72598504 0.88115906 0.98508741\n",
      "  0.90000282 0.36487607 0.54577619 0.84920486]\n",
      " [0.56541651 0.0754912  0.61786058 0.37015832 0.48979757 0.71192376\n",
      "  0.82183867 0.4501003  0.20228174 0.53082898]\n",
      " [0.53591612 0.44019576 0.41449733 0.78503753 0.23637258 0.84714441\n",
      "  0.49099975 0.21028225 0.85855292 0.27704438]\n",
      " [0.10904728 0.15731048 0.72170801 0.71452674 0.55545314 0.84606261\n",
      "  0.69918488 0.2010141  0.32781705 0.18301126]\n",
      " [0.91163948 0.94167691 0.8958849  0.89695068 0.45397158 0.97691596\n",
      "  0.10227037 0.46723354 0.79806984 0.85447179]\n",
      " [0.2311417  0.18236545 0.74452808 0.23528957 0.23017116 0.79807187\n",
      "  0.24852568 0.22679666 0.23335091 0.26944956]\n",
      " [0.83376116 0.96305312 0.03729329 0.20253965 0.01359931 0.11127399\n",
      "  0.57140751 0.87669418 0.17099739 0.16777574]]\n",
      "(10, 10)\n"
     ]
    }
   ],
   "source": [
    "# Criando uma matriz de 10x10 de números aleatórios entre 0 e 1\n",
    "n = np.random.rand(10,10)\n",
    "print(n)\n",
    "# Dimensões da matrix\n",
    "print(n.shape)"
   ]
  },
  {
   "cell_type": "code",
   "execution_count": 58,
   "id": "dc548af8-0cb8-414a-a4b9-22f003c4f38c",
   "metadata": {},
   "outputs": [
    {
     "data": {
      "text/plain": [
       "array([0.49959723, 0.49105691, 0.64281952, 0.56361059, 0.09305077,\n",
       "       0.18051912, 0.76888437, 0.30918879, 0.65813059, 0.42859874])"
      ]
     },
     "execution_count": 58,
     "metadata": {},
     "output_type": "execute_result"
    }
   ],
   "source": [
    "# Acessando valores da matriz\n",
    "n[0,:]"
   ]
  },
  {
   "cell_type": "code",
   "execution_count": 59,
   "id": "42a17906-4357-4b0e-b827-9eb04510584b",
   "metadata": {},
   "outputs": [
    {
     "data": {
      "text/plain": [
       "array([0.49959723, 0.10873557, 0.5218439 , 0.79586655, 0.56541651,\n",
       "       0.53591612, 0.10904728, 0.91163948, 0.2311417 , 0.83376116])"
      ]
     },
     "execution_count": 59,
     "metadata": {},
     "output_type": "execute_result"
    }
   ],
   "source": [
    "\n",
    "n[:,0]"
   ]
  },
  {
   "cell_type": "code",
   "execution_count": 60,
   "id": "d92ca37f-ea09-4a9d-b18d-c462b2960ce9",
   "metadata": {},
   "outputs": [
    {
     "data": {
      "text/plain": [
       "array([[0.49105691, 0.64281952, 0.56361059, 0.09305077],\n",
       "       [0.71094073, 0.42961771, 0.24715902, 0.67587972],\n",
       "       [0.38173239, 0.33769203, 0.72277691, 0.64090933],\n",
       "       [0.36151075, 0.12613152, 0.72598504, 0.88115906],\n",
       "       [0.0754912 , 0.61786058, 0.37015832, 0.48979757],\n",
       "       [0.44019576, 0.41449733, 0.78503753, 0.23637258],\n",
       "       [0.15731048, 0.72170801, 0.71452674, 0.55545314],\n",
       "       [0.94167691, 0.8958849 , 0.89695068, 0.45397158],\n",
       "       [0.18236545, 0.74452808, 0.23528957, 0.23017116],\n",
       "       [0.96305312, 0.03729329, 0.20253965, 0.01359931]])"
      ]
     },
     "execution_count": 60,
     "metadata": {},
     "output_type": "execute_result"
    }
   ],
   "source": [
    "n[:,1:5]"
   ]
  },
  {
   "cell_type": "code",
   "execution_count": 61,
   "id": "4fca2f6d-2321-4811-b6c2-43382c5941c5",
   "metadata": {},
   "outputs": [
    {
     "data": {
      "text/plain": [
       "array([0.49105691, 0.64281952, 0.56361059, 0.09305077])"
      ]
     },
     "execution_count": 61,
     "metadata": {},
     "output_type": "execute_result"
    }
   ],
   "source": [
    "n[0,1:5]"
   ]
  },
  {
   "cell_type": "code",
   "execution_count": 62,
   "id": "98a05b4a-ccd4-49ba-892e-d1ebbafa7586",
   "metadata": {},
   "outputs": [
    {
     "data": {
      "text/plain": [
       "0.4285987418270425"
      ]
     },
     "execution_count": 62,
     "metadata": {},
     "output_type": "execute_result"
    }
   ],
   "source": [
    "n[0,-1]"
   ]
  },
  {
   "cell_type": "code",
   "execution_count": 63,
   "id": "fd6ebc00-a3fe-4249-942a-bea902ab234e",
   "metadata": {},
   "outputs": [
    {
     "data": {
      "text/plain": [
       "array([0.09305077, 0.18051912, 0.76888437, 0.30918879, 0.65813059])"
      ]
     },
     "execution_count": 63,
     "metadata": {},
     "output_type": "execute_result"
    }
   ],
   "source": [
    "n[0,4:-1]"
   ]
  },
  {
   "cell_type": "code",
   "execution_count": 64,
   "id": "28c0fda6-64c5-40a9-b3e1-0afdb7343ea0",
   "metadata": {},
   "outputs": [
    {
     "data": {
      "text/plain": [
       "array([0.09305077, 0.18051912, 0.76888437, 0.30918879, 0.65813059,\n",
       "       0.42859874])"
      ]
     },
     "execution_count": 64,
     "metadata": {},
     "output_type": "execute_result"
    }
   ],
   "source": [
    "n[0,4:]"
   ]
  },
  {
   "cell_type": "code",
   "execution_count": 65,
   "id": "2973a8c7-8361-48c7-8865-31d67fb79736",
   "metadata": {},
   "outputs": [
    {
     "name": "stdout",
     "output_type": "stream",
     "text": [
      "[[ 0.91548487  0.89824266  1.16754664  1.0360462  -0.7651721  -0.10248065\n",
      "   1.34662322  0.43563469  1.19108602  0.76220378]\n",
      " [-0.6093984   1.2682717   0.76457839  0.21171459  1.21769777 -0.14248649\n",
      "  -0.25375554  1.36123634  0.98970403  0.3673438 ]\n",
      " [ 0.95905114  0.64640245  0.52381695  1.28478324  1.16457063  0.73520588\n",
      "   1.40442544  1.44641624  1.17046359  0.87408057]\n",
      " [ 1.38111416  0.59197441 -0.46099219  1.28921204  1.48292078  1.59441301\n",
      "   1.50408054  0.6012404   1.00389161  1.44598308]\n",
      " [ 1.03924528 -0.97430128  1.12794547  0.61561343  0.89567482  1.26965347\n",
      "   1.41322674  0.81115307  0.01134409  0.97612252]\n",
      " [ 0.98566028  0.78890218  0.72874917  1.36741416  0.16709194  1.44355381\n",
      "   0.89812626  0.05013333  1.45693095  0.32586033]\n",
      " [-0.60653579 -0.24009593  1.28330327  1.27330306  1.02146689  1.442276\n",
      "   1.25159784  0.00505767  0.49413831 -0.0887697 ]\n",
      " [ 1.51692724  1.54934486  1.49949458  1.50068351  0.81971723  1.58608327\n",
      "  -0.6706974   0.84851185  1.38387875  1.45216612]\n",
      " [ 0.14471359 -0.0923047   1.31443321  0.1624996   0.14050582  1.38388129\n",
      "   0.21722882  0.12573649  0.154226    0.29806384]\n",
      " [ 1.42762961  1.57179121 -1.67950391  0.01261832 -2.688298   -0.58632179\n",
      "   1.04978527  1.47784085 -0.1566691  -0.17568915]]\n"
     ]
    }
   ],
   "source": [
    "an = np.log(n*5)\n",
    "print(an)"
   ]
  },
  {
   "cell_type": "code",
   "execution_count": null,
   "id": "daca6cc6-d065-48f9-8e85-ea81525c3b9b",
   "metadata": {},
   "outputs": [],
   "source": []
  }
 ],
 "metadata": {
  "kernelspec": {
   "display_name": "Python 3 (ipykernel)",
   "language": "python",
   "name": "python3"
  },
  "language_info": {
   "codemirror_mode": {
    "name": "ipython",
    "version": 3
   },
   "file_extension": ".py",
   "mimetype": "text/x-python",
   "name": "python",
   "nbconvert_exporter": "python",
   "pygments_lexer": "ipython3",
   "version": "3.11.8"
  }
 },
 "nbformat": 4,
 "nbformat_minor": 5
}
